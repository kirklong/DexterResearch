{
 "cells": [
  {
   "cell_type": "code",
   "execution_count": 1,
   "id": "c33cf901",
   "metadata": {},
   "outputs": [],
   "source": [
    "from pyEmceeFit import *"
   ]
  },
  {
   "cell_type": "code",
   "execution_count": 2,
   "id": "b38ded15",
   "metadata": {},
   "outputs": [
    {
     "name": "stdout",
     "output_type": "stream",
     "text": [
      "running with 4 threads\n"
     ]
    },
    {
     "name": "stderr",
     "output_type": "stream",
     "text": [
      "  0%|          | 0/100 [00:00<?, ?it/s]/home/kirk/anaconda3/lib/python3.7/site-packages/emcee/moves/red_blue.py:99: RuntimeWarning: invalid value encountered in double_scalars\n",
      "  lnpdiff = f + nlp - state.log_prob[j]\n",
      " 16%|█▌        | 16/100 [00:00<00:00, 151.69it/s]"
     ]
    },
    {
     "name": "stdout",
     "output_type": "stream",
     "text": [
      "running burn-in\n"
     ]
    },
    {
     "name": "stderr",
     "output_type": "stream",
     "text": [
      "100%|██████████| 100/100 [00:00<00:00, 122.81it/s]\n",
      "  2%|▏         | 16/1000 [00:00<00:06, 150.79it/s]"
     ]
    },
    {
     "name": "stdout",
     "output_type": "stream",
     "text": [
      "production run (n = 1000 iterations)\n"
     ]
    },
    {
     "name": "stderr",
     "output_type": "stream",
     "text": [
      "100%|██████████| 1000/1000 [00:07<00:00, 142.75it/s]\n"
     ]
    }
   ],
   "source": [
    "sampler,pos,prob,state,flat_samples = main(True)"
   ]
  },
  {
   "cell_type": "code",
   "execution_count": 3,
   "id": "d20c1d1f",
   "metadata": {},
   "outputs": [],
   "source": [
    "import matplotlib.pyplot as plt\n",
    "import numpy as np"
   ]
  },
  {
   "cell_type": "code",
   "execution_count": 4,
   "id": "b41cbd78",
   "metadata": {},
   "outputs": [
    {
     "name": "stdout",
     "output_type": "stream",
     "text": [
      "i = 64.14, rMin = 1033.98, MFac = 1.19, rFac = 2.01, f1 (sin^2) = -0.37, f2 (cos^2) = 0.55, f3 (sin*cos)= 0.19\n",
      "i = 59.85, rMin = 996.08, MFac = 0.84, rFac = 2.13, f1 (sin^2) = 0.12, f2 (cos^2) = 0.18, f3 (sin*cos)= 0.20\n",
      "i = 83.23, rMin = 1115.71, MFac = 0.94, rFac = 0.33, f1 (sin^2) = -0.41, f2 (cos^2) = 0.19, f3 (sin*cos)= -0.37\n",
      "i = 54.11, rMin = 844.56, MFac = 1.01, rFac = 1.40, f1 (sin^2) = 1.36, f2 (cos^2) = 0.32, f3 (sin*cos)= 0.26\n",
      "i = -13.86, rMin = 1065.72, MFac = 0.99, rFac = 1.65, f1 (sin^2) = 1.43, f2 (cos^2) = 1.29, f3 (sin*cos)= -0.23\n",
      "i = 59.85, rMin = 996.08, MFac = 0.84, rFac = 2.13, f1 (sin^2) = 0.12, f2 (cos^2) = 0.18, f3 (sin*cos)= 0.20\n",
      "i = 22.30, rMin = 1140.98, MFac = 1.10, rFac = 1.01, f1 (sin^2) = 0.03, f2 (cos^2) = 0.56, f3 (sin*cos)= 0.22\n",
      "i = 94.76, rMin = 966.04, MFac = 0.43, rFac = 2.46, f1 (sin^2) = 0.20, f2 (cos^2) = 0.08, f3 (sin*cos)= 0.28\n",
      "i = 79.33, rMin = 882.83, MFac = 0.62, rFac = 0.37, f1 (sin^2) = -0.05, f2 (cos^2) = 0.60, f3 (sin*cos)= 0.54\n",
      "i = -10.45, rMin = 1189.27, MFac = 1.47, rFac = 0.31, f1 (sin^2) = 0.73, f2 (cos^2) = 0.25, f3 (sin*cos)= 0.07\n"
     ]
    }
   ],
   "source": [
    " for θ in flat_samples[np.random.randint(len(flat_samples), size=10)]:\n",
    "        print(\"i = {0:.2f}, rMin = {1:.2f}, MFac = {2:.2f}, rFac = {3:.2f}, f1 (sin^2) = {4:.2f}, f2 (cos^2) = {5:.2f}, f3 (sin*cos)= {6:.2f}\".format(θ[0],θ[1],θ[2],θ[3],θ[4],θ[5],θ[6]))"
   ]
  },
  {
   "cell_type": "code",
   "execution_count": 11,
   "id": "bf920c6d",
   "metadata": {},
   "outputs": [],
   "source": [
    "def plotParams(data,θList):\n",
    "    λCen=2.172; ν = (data[0]-λCen)/λCen*3e5\n",
    "    indx=[0,1,2,6,7,8,12,13,14,18,19,20]; oindx=[3,4,5,9,10,11,15,16,17,21,22,23]\n",
    "    fig,(ax1,ax2,ax3) = plt.subplots(nrows=3,ncols=1,figsize=(12,7))\n",
    "    ax1.errorbar(ν,data[3],yerr=data[6],marker=\"o\",ms=3,label=\"3C 273\")\n",
    "    ax2.errorbar(ν,np.mean(np.array(data[4])[indx],axis=0),yerr=ν*0+0.07,label=\"3C 273\",marker=\"o\",ms=3)\n",
    "    ax3.errorbar(ν,np.mean(np.array(data[4])[oindx],axis=0),yerr=ν*0+0.07,label=\"3C 273\",marker=\"o\",ms=3)\n",
    "    for θ in θList:µ\n",
    "        i,rMin,Mfac,rFac,f1,f2,f3 = θ\n",
    "        line,phase,phaseo = getProfiles(ν,θ,data)\n",
    "        ax1.plot(ν,line,label=\"disk wind\",lw=2)\n",
    "        ax2.plot(ν,phase,label=\"disk wind\",lw=2)\n",
    "        ax3.plot(ν,phaseo,label=\"disk wind\",lw=2)\n",
    "        \n",
    "    return fig,ax1,ax2,ax3"
   ]
  },
  {
   "cell_type": "code",
   "execution_count": null,
   "id": "0311893e",
   "metadata": {},
   "outputs": [],
   "source": [
    "θList = flat_samples[np.random.randint(len(flat_samples),size=10)]\n",
    "data = readPickle(\"3c273_juljanmarmay_append_gilles_specirf_wide_v6.p\")\n",
    "fig,ax1,ax2,ax3 = plotParams(data,θList)"
   ]
  },
  {
   "cell_type": "code",
   "execution_count": null,
   "id": "907f88fc",
   "metadata": {},
   "outputs": [],
   "source": []
  }
 ],
 "metadata": {
  "@webio": {
   "lastCommId": null,
   "lastKernelId": null
  },
  "kernelspec": {
   "display_name": "Python 3",
   "language": "python",
   "name": "python3"
  },
  "language_info": {
   "codemirror_mode": {
    "name": "ipython",
    "version": 3
   },
   "file_extension": ".py",
   "mimetype": "text/x-python",
   "name": "python",
   "nbconvert_exporter": "python",
   "pygments_lexer": "ipython3",
   "version": "3.7.7"
  },
  "varInspector": {
   "cols": {
    "lenName": 16,
    "lenType": 16,
    "lenVar": 40
   },
   "kernels_config": {
    "python": {
     "delete_cmd_postfix": "",
     "delete_cmd_prefix": "del ",
     "library": "var_list.py",
     "varRefreshCmd": "print(var_dic_list())"
    },
    "r": {
     "delete_cmd_postfix": ") ",
     "delete_cmd_prefix": "rm(",
     "library": "var_list.r",
     "varRefreshCmd": "cat(var_dic_list()) "
    }
   },
   "types_to_exclude": [
    "module",
    "function",
    "builtin_function_or_method",
    "instance",
    "_Feature"
   ],
   "window_display": false
  }
 },
 "nbformat": 4,
 "nbformat_minor": 5
}
