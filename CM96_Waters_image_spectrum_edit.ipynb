{
 "cells": [
  {
   "cell_type": "code",
   "execution_count": 1,
   "metadata": {},
   "outputs": [],
   "source": [
    "%matplotlib inline\n",
    "import matplotlib.pyplot as plt\n",
    "import matplotlib\n",
    "matplotlib.rcParams['image.cmap']='inferno'\n",
    "import numpy as np\n",
    "from scipy.stats import binned_statistic\n",
    "matplotlib.rcParams['font.size']=12"
   ]
  },
  {
   "cell_type": "code",
   "execution_count": 2,
   "metadata": {},
   "outputs": [],
   "source": [
    "# define a camera with coordinates (x,y) = alpha,beta inclined by 75 deg from the pole\n",
    "nx=2048; ny=2048; rlim=3e4\n",
    "a = np.arange(nx)/(nx-1.)*rlim-rlim/2.0; b = np.arange(ny)/(ny-1.)*3e4-rlim/2.0\n",
    "alpha,beta = np.meshgrid(a,b)\n",
    "i=75./180.*np.pi; cosi=np.cos(i); sini=np.sin(i)\n",
    "\n",
    "# calculate radius and azimuth where rays sent from camera pixels intersect the \"disk\" in the equatorial plane\n",
    "r=np.sqrt(beta**2./cosi**2.+alpha**2.); phi=np.arctan2(beta,alpha*cosi)\n",
    "nu=1.+np.sqrt(1./2./r)*sini*np.cos(phi) #this is Doppler shift (check..? G = M = c = 1, but where does 2 come from?)\n",
    "rmin=1e3 #just for fun\n",
    "\n",
    "# ASK JASON TO DRAW A PICTURE OF GEOMETRY IN THIS CELL"
   ]
  },
  {
   "cell_type": "code",
   "execution_count": 3,
   "metadata": {},
   "outputs": [],
   "source": [
    "def calc_A(A0,x,gamma):\n",
    "    return A0*x**gamma\n",
    "\n",
    "# THIS PHI IS WITH OBSERVER AT PHI=0!\n",
    "# see Waters+2016\n",
    "\n",
    "# this is the line of sight velocity gradient\n",
    "def calc_dvldl(r,sini,phi,wind=1):\n",
    "    if wind==1:\n",
    "        phiterm=np.cos(phi)*(np.sqrt(2.)*np.cos(phi)+np.sin(phi)/2.)\n",
    "    else:\n",
    "        phiterm=np.cos(phi)*np.sin(phi)/2.\n",
    "    dvl=3.*np.sqrt(1./2./r)/r*sini**2.*phiterm\n",
    "    return dvl\n",
    "# WHERE THE FUCK DOES THIS COME FROM? -- appendix to Waters idiot can you even read\n",
    "def calc_dvldl_KIRK(r,sini,phi,windWeight=0):\n",
    "    windPhi=np.cos(phi)*(np.sqrt(2.)*np.cos(phi)+np.sin(phi)/2.)\n",
    "    diskPhi=phiterm=np.cos(phi)*np.sin(phi)/2.\n",
    "    phiterm=windWeight*windPhi+(1-windWeight)*diskPhi\n",
    "    dvl=3.*np.sqrt(1./2./r)/r*sini**2.*phiterm\n",
    "    return dvl\n",
    "#sqrt business is v_phi for circular gravitational symmetry\n",
    "#should be sqrt(GM/r) so where does extra 1/sqrt(2) come from?\n",
    "\n",
    "# this is the intensity in terms of the line optical depth tau and the line of sight velocity gradient\n",
    "def intensity(A,r,dvldl,tau): #~dvldr\n",
    "    return A/4./np.pi/r**2.*np.abs(dvldl)*(1.-np.exp(-tau))\n",
    "#this is at least semi related to eqn 22 in Waters..? #check missing pieces and see if they are important?"
   ]
  },
  {
   "cell_type": "code",
   "execution_count": 4,
   "metadata": {},
   "outputs": [],
   "source": [
    "# try a sample intensity calculation\n",
    "gamma=1.; A0=1.; tau=10. #wtf is gamma and \"A0\"???\n",
    "phin=phi+np.pi/2. #why + pi/2??? #because we're different than Chiang and Murray by 90 deg\n",
    "\n",
    "# velocity gradient for wind and disk models (different forms of velocity gradients)\n",
    "dvldlKIRK=calc_dvldl_KIRK(r,sini,phin,windWeight=1)\n",
    "dvldl0KIRK=calc_dvldl_KIRK(r,sini,phin,windWeight=0)\n",
    "dvldl=calc_dvldl(r,sini,phin,wind=1)\n",
    "dvldl0=calc_dvldl(r,sini,phin,wind=0)\n",
    "A=calc_A(A0,r,gamma)\n",
    "\n",
    "# calculate intensities for the two cases\n",
    "iab=intensity(A,r,dvldl,tau)\n",
    "iab0=intensity(A,r,dvldl0,tau)\n",
    "iabKIRK=intensity(A,r,dvldlKIRK,tau)\n",
    "iab0KIRK=intensity(A,r,dvldl0KIRK,tau)\n",
    "# set intensities inside of minimum radius = 0\n",
    "iab[r < rmin]=0.\n",
    "iab0[r < rmin]=0.\n",
    "iabKIRK[r<rmin]=0.\n",
    "iab0KIRK[r<rmin]=0."
   ]
  },
  {
   "cell_type": "code",
   "execution_count": 12,
   "metadata": {},
   "outputs": [
    {
     "data": {
      "text/plain": [
       "<matplotlib.image.AxesImage at 0x7fca7d9e16d0>"
      ]
     },
     "execution_count": 12,
     "metadata": {},
     "output_type": "execute_result"
    },
    {
     "data": {
      "image/png": "[encoded data removed]",
      "text/plain": [
       "<Figure size 432x288 with 1 Axes>"
      ]
     },
     "metadata": {
      "needs_background": "light"
     },
     "output_type": "display_data"
    }
   ],
   "source": [
    "plt.imshow(iab0**(1/4)) #fx returns same result in limiting cases as Jason's does, just checking...."
   ]
  },
  {
   "cell_type": "code",
   "execution_count": 6,
   "metadata": {},
   "outputs": [
    {
     "ename": "NameError",
     "evalue": "name 'phase' is not defined",
     "output_type": "error",
     "traceback": [
      "\u001b[0;31m---------------------------------------------------------------------------\u001b[0m",
      "\u001b[0;31mNameError\u001b[0m                                 Traceback (most recent call last)",
      "\u001b[0;32m<ipython-input-6-497249ad43fa>\u001b[0m in \u001b[0;36m<module>\u001b[0;34m\u001b[0m\n\u001b[1;32m    127\u001b[0m         \u001b[0mN\u001b[0m\u001b[0;34m+=\u001b[0m\u001b[0;36m1\u001b[0m\u001b[0;34m\u001b[0m\u001b[0;34m\u001b[0m\u001b[0m\n\u001b[1;32m    128\u001b[0m \u001b[0;34m\u001b[0m\u001b[0m\n\u001b[0;32m--> 129\u001b[0;31m \u001b[0mgenPlots\u001b[0m\u001b[0;34m(\u001b[0m\u001b[0mwSpace\u001b[0m\u001b[0;34m,\u001b[0m\u001b[0mdata\u001b[0m\u001b[0;34m,\u001b[0m\u001b[0mlamcen\u001b[0m\u001b[0;34m)\u001b[0m\u001b[0;34m\u001b[0m\u001b[0;34m\u001b[0m\u001b[0m\n\u001b[0m",
      "\u001b[0;32m<ipython-input-6-497249ad43fa>\u001b[0m in \u001b[0;36mgenPlots\u001b[0;34m(wSpace, data, lamcen)\u001b[0m\n\u001b[1;32m     71\u001b[0m     \u001b[0;31m#        dphi_map=-2.*np.pi*(x*u[i]+y*v[i])*ii*180./np.pi*1e6\u001b[0m\u001b[0;34m\u001b[0m\u001b[0;34m\u001b[0m\u001b[0;34m\u001b[0m\u001b[0m\n\u001b[1;32m     72\u001b[0m     \u001b[0;31m#        dphi_avg,p_edges,p_n = binned_statistic(nu.flatten(),dphi_map.flatten(),statistic='sum',bins=bins)\u001b[0m\u001b[0;34m\u001b[0m\u001b[0;34m\u001b[0m\u001b[0;34m\u001b[0m\u001b[0m\n\u001b[0;32m---> 73\u001b[0;31m             \u001b[0mdphi_avg\u001b[0m\u001b[0;34m=\u001b[0m\u001b[0mphase\u001b[0m\u001b[0;34m(\u001b[0m\u001b[0mnu\u001b[0m\u001b[0;34m,\u001b[0m\u001b[0mii\u001b[0m\u001b[0;34m,\u001b[0m\u001b[0mx\u001b[0m\u001b[0;34m,\u001b[0m\u001b[0my\u001b[0m\u001b[0;34m,\u001b[0m\u001b[0mu\u001b[0m\u001b[0;34m[\u001b[0m\u001b[0mi\u001b[0m\u001b[0;34m]\u001b[0m\u001b[0;34m,\u001b[0m\u001b[0mv\u001b[0m\u001b[0;34m[\u001b[0m\u001b[0mi\u001b[0m\u001b[0;34m]\u001b[0m\u001b[0;34m,\u001b[0m\u001b[0mbins\u001b[0m\u001b[0;34m=\u001b[0m\u001b[0mbins\u001b[0m\u001b[0;34m)\u001b[0m\u001b[0;34m\u001b[0m\u001b[0;34m\u001b[0m\u001b[0m\n\u001b[0m\u001b[1;32m     74\u001b[0m             \u001b[0mdphi0Max\u001b[0m\u001b[0;34m.\u001b[0m\u001b[0mappend\u001b[0m\u001b[0;34m(\u001b[0m\u001b[0mdphi_avg\u001b[0m\u001b[0;34m)\u001b[0m\u001b[0;34m\u001b[0m\u001b[0;34m\u001b[0m\u001b[0m\n\u001b[1;32m     75\u001b[0m     \u001b[0;32mfor\u001b[0m \u001b[0mw\u001b[0m \u001b[0;32min\u001b[0m \u001b[0mwSpace\u001b[0m\u001b[0;34m:\u001b[0m\u001b[0;34m\u001b[0m\u001b[0;34m\u001b[0m\u001b[0m\n",
      "\u001b[0;31mNameError\u001b[0m: name 'phase' is not defined"
     ]
    }
   ],
   "source": [
    "#TO-DO\n",
    "import matplotlib.pyplot as plt\n",
    "import numpy as np\n",
    "from scipy.stats import binned_statistic\n",
    "#1. create \"weight space\" (range of weights for phiTerm) \n",
    "#2. iterate over weight space and generate plot frame at each one\n",
    "#3. assemble into animation and show to Jason\n",
    "import subprocess\n",
    "def makeAnim(fileStruct,num0=3,fps=30,clean=True):\n",
    "    subprocess.call(['ffmpeg -framerate {0} -i \"{1}%0{2}d.png\" -c:v libx264 -preset slow -coder 1 -movflags +faststart -g 15 -crf 18 -pix_fmt yuv420p -profile:v high -y -bf 2 \"{1}.mp4\"'.format(fps,fileStruct,num0)],shell=True)\n",
    "    if clean==True:\n",
    "        subprocess.call(['rm *.png'],shell=True) #clear frames\n",
    "    \n",
    "#1\n",
    "wSpace=np.arange(0.01,1,0.01) #don't need zero or 1 because those limiting cases already done\n",
    "#2\n",
    "import pickle, sys\n",
    "def load_pickle(file):\n",
    "    with open(file, 'rb') as f:\n",
    "        if sys.version_info.major > 2:\n",
    "            data = pickle.load(f, encoding='latin1')\n",
    "        else:\n",
    "            data = pickle.load(f)\n",
    "    return data\n",
    "data = load_pickle('3c273_juljanmarmay_append_gilles_specirf_wide_v6.p')\n",
    "lamcen=2.172\n",
    "\n",
    "\n",
    "def genPlots(wSpace,data,lamcen):\n",
    "        # define a camera with coordinates (x,y) = alpha,beta inclined by 75 deg from the pole\n",
    "    nx=2048; ny=2048; rlim=3e4\n",
    "    a = np.arange(nx)/(nx-1.)*rlim-rlim/2.0; b = np.arange(ny)/(ny-1.)*3e4-rlim/2.0\n",
    "    alpha,beta = np.meshgrid(a,b)\n",
    "    i=75./180.*np.pi; cosi=np.cos(i); sini=np.sin(i)\n",
    "\n",
    "    # calculate radius and azimuth where rays sent from camera pixels intersect the \"disk\" in the equatorial plane\n",
    "    r=np.sqrt(beta**2./cosi**2.+alpha**2.); phi=np.arctan2(beta,alpha*cosi)\n",
    "    nu=1.+np.sqrt(1./2./r)*sini*np.cos(phi)\n",
    "    rmin=1e3\n",
    "    \n",
    "    # try a sample intensity calculation\n",
    "    gamma=1.; A0=1.; tau=10. #wtf is gamma and \"A0\"???\n",
    "    phin=phi+np.pi/2. #why + pi/2??? #because we're different than Chiang and Murray by 90 deg\n",
    "    \n",
    "    vel=(data[0]-lamcen)/lamcen*3e5\n",
    "    bins=100\n",
    "    #get nu, iab\n",
    "   \n",
    "    dvldl0=calc_dvldl_KIRK(r,sini,phin,windWeight=0) #no wind limiting case\n",
    "    dvldlWMax=calc_dvldl_KIRK(r,sini,phin,windWeight=1) #all wind limiting case\n",
    "    A=calc_A(A0,r,gamma)\n",
    "    iab0=intensity(A,r,dvldl0,tau)\n",
    "    iabMax=intensity(A,r,dvldlWMax,tau)\n",
    "    iabMax[r < rmin]=0.\n",
    "    iab0[r < rmin]=0.\n",
    "    spec0,edges0,n0=binned_statistic(nu.flatten(),iab0.flatten(),statistic='sum',bins=bins)\n",
    "    specMax,edgesMax,nMax=binned_statistic(nu.flatten(),iabMax.flatten(),statistic='sum',bins=bins)\n",
    "    nubin0=0.5*(edges0[1:]+edges0[:-1])\n",
    "    N=1\n",
    "    strLen=0\n",
    "    \n",
    "     # now what do the phases look like?\n",
    "    u=[60.,45.,0.]; v=[0.,45.,60.]; blrang=3e8*2e33*6.67e-8/9e20/548./3.09e24\n",
    "    #where do these numbers come from???\n",
    "    x=alpha*blrang; y=beta*blrang; dphi0Max=[];\n",
    "    \n",
    "    fline0=spec0/np.max(spec0)*0.6/(1.+spec0/np.max(spec0)*0.6)\n",
    "    flineMax=specMax/np.max(specMax)*0.6/(1.+specMax/np.max(specMax)*0.6)\n",
    "    for i in range(len(u)):\n",
    "        for ii in [iab0,iabMax]:\n",
    "    #        dphi_map=-2.*np.pi*(x*u[i]+y*v[i])*ii*180./np.pi*1e6\n",
    "    #        dphi_avg,p_edges,p_n = binned_statistic(nu.flatten(),dphi_map.flatten(),statistic='sum',bins=bins)\n",
    "            dphi_avg=phase(nu,ii,x,y,u[i],v[i],bins=bins)\n",
    "            dphi0Max.append(dphi_avg)\n",
    "    for w in wSpace:\n",
    "        dphi=[]\n",
    "        string=\"{:.2f} % complete\".format(N/len(wSpace)*100)\n",
    "        sys.stdout.write(\"\\r\")\n",
    "        sys.stdout.write(\" \"*strLen)\n",
    "        sys.stdout.write(\"\\r\")\n",
    "        sys.stdout.write(string)\n",
    "        sys.stdout.flush()\n",
    "        strLen=len(string)\n",
    "        dvldl=calc_dvldl_KIRK(r,sini,phin,windWeight=w)\n",
    "        iab=intensity(A,r,dvldl,tau)\n",
    "        iab[r<rmin]=0.\n",
    "        spec,edges,n=binned_statistic(nu.flatten(), iab.flatten(), statistic='sum', bins=bins)\n",
    "        nubin=0.5*(edges[1:]+edges[:-1])\n",
    "        fig = plt.figure(1,figsize=(20,10))\n",
    "        ax=plt.gca()\n",
    "        plt.subplot(1,2,1)\n",
    "        plt.errorbar(vel,data[3],data[6],marker='.',ms=10,ls='--',label='3C 273')\n",
    "        plt.plot((nubin-1.)*3e5,spec/np.max(spec)*np.max(data[3]),label='weighted disk wind',lw=3,c='g')\n",
    "        plt.plot((nubin0-1.)*3e5,spec0/np.max(spec0)*np.max(data[3]),label='no wind limit',lw=1,ls='--',c='r')\n",
    "        plt.plot((nubin0-1.)*3e5,specMax/np.max(specMax)*np.max(data[3]),label='full wind limit',lw=1,ls='--',c='orange')\n",
    "        plt.legend(loc='upper right')\n",
    "        plt.axis([-5000,5000,0,0.65])\n",
    "        plt.ylabel('flux')\n",
    "        plt.xlabel('velocity (km/s)')\n",
    "        #plt.subplots_adjust(left=0.18,right=0.98,bottom=0.15,top=0.98)\n",
    "        \n",
    "        plt.subplot(1,2,2)\n",
    "   \n",
    "        fline=spec/np.max(spec)*0.6/(1.+spec/np.max(spec)*0.6)\n",
    "        for i in range(len(u)):\n",
    "            for ii in [iab]:\n",
    "        #        dphi_map=-2.*np.pi*(x*u[i]+y*v[i])*ii*180./np.pi*1e6\n",
    "        #        dphi_avg,p_edges,p_n = binned_statistic(nu.flatten(),dphi_map.flatten(),statistic='sum',bins=bins)\n",
    "                dphi_avg=phase(nu,ii,x,y,u[i],v[i],bins=bins)\n",
    "                dphi.append(dphi_avg)\n",
    "        # wind model shows a strong disk-like phase\n",
    "        rfac=1.3 #need to do this for all cases..? where come from? see bottom cell\n",
    "        plt.plot((nubin-1.)*3e5,dphi[0]*fline*rfac,label='weighted disk wind',lw=3,c='g')\n",
    "        plt.plot((nubin-1.)*3e5,dphi0Max[0]*fline0*rfac,label='no wind limit',lw=1,ls='--',c='r')\n",
    "        plt.plot((nubin-1.)*3e5,dphi0Max[1]*flineMax*rfac,label=\"full wind limit\",lw=1,ls='--',c='orange')\n",
    "        indx=[0,1,2,6,7,8,12,13,14,18,19,20]; oindx=[3,4,5,9,10,11,15,16,17,21,22,23] #what's this for?\n",
    "        plt.errorbar(vel,np.mean(data[4][indx],axis=0),vel*0.+0.07,marker='.',ms=10,ls='--',label='3C 273')\n",
    "        #plt.plot((nubin-1.)*3e5,dphi[2])\n",
    "        #/np.sum(spec0)*np.sum(spec))\n",
    "        plt.legend(loc='upper right')\n",
    "        plt.axis([-7000,7000,np.min(dphi0Max[0]*fline0)*1.1,np.max(dphi0Max[0]*fline0)*1.1])\n",
    "        plt.xlabel('velocity (km/s)'); plt.ylabel('phase (deg)')\n",
    "        \n",
    "        fig.suptitle(\"Wind weight = {:.2f}\".format(w))\n",
    "        fig.savefig('CM96_WindDiskWeighted_frame%03d.png' %N,bbox_layout='tight',pad_inches=0,dpi=300)\n",
    "        plt.close()\n",
    "        N+=1\n",
    "\n",
    "genPlots(wSpace,data,lamcen)"
   ]
  },
  {
   "cell_type": "code",
   "execution_count": null,
   "metadata": {},
   "outputs": [],
   "source": [
    "makeAnim('CM96_WindDiskWeighted_frame',fps=5)"
   ]
  },
  {
   "cell_type": "code",
   "execution_count": 13,
   "metadata": {},
   "outputs": [
    {
     "data": {
      "image/png": "[encoded data removed]",
      "text/plain": [
       "<Figure size 288x288 with 1 Axes>"
      ]
     },
     "metadata": {
      "needs_background": "light"
     },
     "output_type": "display_data"
    }
   ],
   "source": [
    "# make plots of the line profiles flux vs. velocity (wavelength) for the two cases\n",
    "# the \"disk\" case is double-peaked as expected, while the wind has most of the emission \n",
    "# close to zero velocity and hides the double peaks.\n",
    "# this is the main result of Chiang & Murray 1996 -- even at high inclination, wind emission lines can be single peaked\n",
    "\n",
    "bins=100\n",
    "spec,edges,n=binned_statistic(nu.flatten(), iab.flatten(), statistic='sum', bins=bins)\n",
    "nubin=0.5*(edges[1:]+edges[:-1])\n",
    "spec0,edges0,n0=binned_statistic(nu.flatten(), iab0KIRK.flatten(), statistic='sum', bins=bins)\n",
    "plt.figure(figsize=(4,4))\n",
    "plt.plot((nubin-1.)*3e5,spec/np.sum(spec),label='wind',linewidth=3)\n",
    "plt.plot((nubin-1.)*3e5,spec0/np.sum(spec0),label='thin disk',linewidth=3)\n",
    "plt.legend(loc='upper left')\n",
    "plt.axis([-7000,7000,0,np.max(spec/np.sum(spec))*1.1])\n",
    "plt.ylabel('flux')\n",
    "plt.xlabel('velocity (km/s)')\n",
    "fline=spec/np.max(spec)*0.6/(1.+spec/np.max(spec)*0.6)\n",
    "fline0=spec0/np.max(spec0)*0.6/(1.+spec0/np.max(spec0)*0.6)\n",
    "plt.subplots_adjust(left=0.18,right=0.98,bottom=0.15,top=0.98)\n",
    "#plt.savefig('CM96_W16_wind_disk_line_profile.pdf',bbox_layout='tight',pad_inches=0)"
   ]
  },
  {
   "cell_type": "code",
   "execution_count": 17,
   "metadata": {},
   "outputs": [],
   "source": [
    "def centroid(nu,iab,alpha,beta,bins=100):\n",
    "    xcen,edges,n = binned_statistic(nu.flatten(),iab.flatten()*alpha.flatten(),statistic='sum',bins=bins)\n",
    "    ycen,edges,n = binned_statistic(nu.flatten(),iab.flatten()*beta.flatten(),statistic='sum',bins=bins)\n",
    "    isum,edges,n = binned_statistic(nu.flatten(),iab.flatten(),statistic='sum',bins=bins)\n",
    "    isum[isum==0.]=1.\n",
    "    return xcen/isum, ycen/isum #xcen and ycen means alpha and beta\n",
    "\n",
    "def phase(nu,iab,x,y,u,v,bins=100):\n",
    "    dphi_map=-2.*np.pi*(x*u+y*v)*iab*180./np.pi*1e6 #this seems similar to eqn 6 in gravity but not really?\n",
    "    #1e6 in units of u and v, 180/pi to convert rad to deg\n",
    "    #also what is ii...???? oh I see declared in loop below but bad practice to not pass as param\n",
    "    dphi,edges,n = binned_statistic(nu.flatten(),dphi_map.flatten(),statistic='sum',bins=bins)\n",
    "    isum,edges,n = binned_statistic(nu.flatten(),iab.flatten(),statistic='sum',bins=bins)\n",
    "    isum[isum==0.]=1. #why?\n",
    "    return dphi/isum"
   ]
  },
  {
   "cell_type": "code",
   "execution_count": 18,
   "metadata": {},
   "outputs": [],
   "source": [
    "# now what do the phases look like?\n",
    "u=[60.,45.,0.]; v=[0.,45.,60.]; blrang=3e8*2e33*6.67e-8/9e20/548./3.09e24 #u and v are telescope baselines measured in units of lambda\n",
    "#different orientations are in u and v; blrang assigns size on sky of source in waters\n",
    "#where do these numbers come from???\n",
    "x=alpha*blrang; y=beta*blrang; dphi=[] #alpha and beta originally in units of R_s (?) and now in units of angular position\n",
    "for i in range(len(u)):\n",
    "    for ii in [iab,iab0]:\n",
    "#        dphi_map=-2.*np.pi*(x*u[i]+y*v[i])*ii*180./np.pi*1e6\n",
    "#        dphi_avg,p_edges,p_n = binned_statistic(nu.flatten(),dphi_map.flatten(),statistic='sum',bins=bins)\n",
    "        dphi_avg=phase(nu,ii,x,y,u[i],v[i],bins=bins)\n",
    "        dphi.append(dphi_avg)"
   ]
  },
  {
   "cell_type": "code",
   "execution_count": 21,
   "metadata": {},
   "outputs": [
    {
     "data": {
      "text/plain": [
       "100"
      ]
     },
     "execution_count": 21,
     "metadata": {},
     "output_type": "execute_result"
    }
   ],
   "source": [
    "len(dphi[0])"
   ]
  },
  {
   "cell_type": "code",
   "execution_count": 29,
   "metadata": {},
   "outputs": [
    {
     "data": {
      "image/png": "[encoded data removed]",
      "text/plain": [
       "<Figure size 360x288 with 1 Axes>"
      ]
     },
     "metadata": {
      "needs_background": "light"
     },
     "output_type": "display_data"
    }
   ],
   "source": [
    "# wind model shows a strong disk-like phase \n",
    "# this is wrong! ? why only plot 0, 1 when dphi has six things \n",
    "# 0,1 is a pair at one baseline, 2,3 is a pair at second baseline, etc\n",
    "plt.figure(figsize=(5,4))\n",
    "plt.plot((nubin-1.)*3e5,dphi[0]*fline,label='wind')\n",
    "#plt.plot((nubin-1.)*3e5,dphi[2])\n",
    "plt.plot((nubin-1.)*3e5,dphi[1]*fline0,label='thin disk')#/np.sum(spec0)*np.sum(spec),label='disk')\n",
    "#/np.sum(spec0)*np.sum(spec))\n",
    "plt.legend(loc='upper left')\n",
    "plt.axis([-7000,7000,np.min(dphi[1]*fline0)*1.1,np.max(dphi[1]*fline0)*1.1])\n",
    "plt.xlabel('velocity (km/s)'); plt.ylabel('phase (deg)')\n",
    "plt.savefig('CM96_W16_wind_disk_phases.pdf',bbox_layout='tight',pad_inches=0)"
   ]
  },
  {
   "cell_type": "code",
   "execution_count": null,
   "metadata": {},
   "outputs": [],
   "source": [
    "xcen,ycen = centroid(nu,iab,alpha,beta,bins=bins)\n",
    "xcen0,ycen0 = centroid(nu,iab0,alpha,beta,bins=bins)"
   ]
  },
  {
   "cell_type": "code",
   "execution_count": null,
   "metadata": {},
   "outputs": [],
   "source": [
    "# centroids are only a little different for wind and rotation!\n",
    "lim=20000.*blrang/4.85e-12 #again...where??? why???`\n",
    "plt.figure(figsize=(5,4))\n",
    "plt.plot(xcen[15:-15]*blrang/4.85e-12,ycen[15:-15]*blrang/4.85e-12,marker='o',label='wind',zorder=1)\n",
    "plt.plot(xcen0[15:-15]*blrang/4.85e-12,ycen0[15:-15]*blrang/4.85e-12,marker='o',label='thin disk',zorder=0)\n",
    "plt.axis([-lim,lim,-lim,lim])\n",
    "plt.xlabel('x ($\\mu$as)'); plt.ylabel('y ($\\mu$as)')\n",
    "plt.axes().set_aspect('equal')\n",
    "plt.legend(loc='upper left')\n",
    "plt.savefig('CM96_W16_wind_disk_centroids.pdf',bbox_layout='tight',pad_inches=0)"
   ]
  },
  {
   "cell_type": "code",
   "execution_count": null,
   "metadata": {},
   "outputs": [],
   "source": [
    "# with data\n",
    "import pickle, sys\n",
    "def load_pickle(file):\n",
    "    with open(file, 'rb') as f:\n",
    "        if sys.version_info.major > 2:\n",
    "            data = pickle.load(f, encoding='latin1')\n",
    "        else:\n",
    "            data = pickle.load(f)\n",
    "    return data\n",
    "data = load_pickle('3c273_juljanmarmay_append_gilles_specirf_wide_v6.p')\n",
    "lamcen=2.172\n",
    "vel=(data[0]-lamcen)/lamcen*3e5"
   ]
  },
  {
   "cell_type": "code",
   "execution_count": null,
   "metadata": {},
   "outputs": [],
   "source": [
    "# that is quite reasonable from a first guess!\n",
    "fig,ax = plt.subplots(1,figsize=(10,10))\n",
    "plt.errorbar(vel,data[3],data[6],marker='.',ms=10,ls='--',label='3C 273')\n",
    "plt.plot((nubin-1.)*3e5,spec/np.max(spec)*np.max(data[3]),label='disk wind',linewidth=3)\n",
    "labels, handles = ax.get_legend_handles_labels()\n",
    "plt.legend(labels[::-1],handles[::-1],loc='upper right')\n",
    "plt.axis([-5000,5000,0,0.65])\n",
    "plt.ylabel('flux')\n",
    "plt.xlabel('velocity (km/s)')\n",
    "plt.subplots_adjust(left=0.18,right=0.98,bottom=0.15,top=0.98)\n",
    "plt.savefig('CM96_W16_wind_3c273_spectra.pdf',bbox_layout='tight',pad_inches=0)"
   ]
  },
  {
   "cell_type": "code",
   "execution_count": null,
   "metadata": {},
   "outputs": [],
   "source": [
    "# now what do the phases look like?\n",
    "from scipy.ndimage import gaussian_filter1d\n",
    "u=data[1]; v=data[2]; blrang=3e8*2e33*6.67e-8/9e20/548./3.09e24\n",
    "x=alpha*blrang; y=beta*blrang; dphi=[]; psf=4e-3/2.35\n",
    "for i in range(len(u)):\n",
    "    for ii in [iab]:\n",
    "#        dphi_map=-2.*np.pi*(x*u[i]+y*v[i])*ii*180./np.pi*1e6\n",
    "#        dphi_avg,p_edges,p_n = binned_statistic(nu.flatten(),dphi_map.flatten(),statistic='sum',bins=bins)\n",
    "        dphi_avg_raw=phase(nu,ii,x,y,u[i],v[i],bins=bins)\n",
    "        dphi_avg = gaussian_filter1d(dphi_avg_raw,psf/3e5/(nubin[1]-nubin[0])) #WHAT IS PSF??? This doesn't work as is, only using \"raw\" implementation in master plot cell\n",
    "        dphi.append(dphi_avg)"
   ]
  },
  {
   "cell_type": "code",
   "execution_count": null,
   "metadata": {},
   "outputs": [],
   "source": [
    "# radius factor chosen for best match to data; also means M_BH goes up by that factor\n",
    "rfac=1.3\n",
    "indx=[0,1,2,6,7,8,12,13,14,18,19,20]; oindx=[3,4,5,9,10,11,15,16,17,21,22,23] #what's this for?\n",
    "fig,ax = plt.subplots(1,figsize=(4,4))\n",
    "plt.errorbar(vel,np.mean(data[4][indx],axis=0),vel*0.+0.07,marker='o',label='3C 273') #why *0+0.07\n",
    "plt.plot((nubin-1.)*3e5,np.mean(np.array(dphi)[indx],axis=0)*fline*rfac,linewidth=3,label='disk wind') #why do we also need idx here?\n",
    "handles, labels = ax.get_legend_handles_labels()\n",
    "plt.legend(handles[::-1],labels[::-1],loc='upper left')\n",
    "#plt.plot((nubin-1.)*3e5,np.mean(np.array(dphi)[oindx],axis=0)*fline*rfac,linewidth=3)\n",
    "plt.axis([-5000,5000,-0.35,0.35])\n",
    "plt.xlabel('velocity (km/s)'); plt.ylabel('phase (deg)')\n",
    "plt.subplots_adjust(left=0.18,right=0.98,bottom=0.15,top=0.98)\n",
    "plt.savefig('CM96_W16_wind_3c273_phases.pdf',bbox_layout='tight',pad_inches=0)"
   ]
  },
  {
   "cell_type": "code",
   "execution_count": null,
   "metadata": {},
   "outputs": [],
   "source": []
  }
 ],
 "metadata": {
  "kernelspec": {
   "display_name": "Python 3",
   "language": "python",
   "name": "python3"
  },
  "language_info": {
   "codemirror_mode": {
    "name": "ipython",
    "version": 3
   },
   "file_extension": ".py",
   "mimetype": "text/x-python",
   "name": "python",
   "nbconvert_exporter": "python",
   "pygments_lexer": "ipython3",
   "version": "3.7.7"
  }
 },
 "nbformat": 4,
 "nbformat_minor": 1
}
